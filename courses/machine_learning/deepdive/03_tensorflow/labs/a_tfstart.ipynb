{
  "nbformat": 4,
  "nbformat_minor": 0,
  "metadata": {
    "kernelspec": {
      "name": "python3",
      "display_name": "Python 3"
    },
    "colab": {
      "name": "a_tfstart.ipynb",
      "provenance": [],
      "collapsed_sections": []
    }
  },
  "cells": [
    {
      "cell_type": "markdown",
      "metadata": {
        "deletable": true,
        "editable": true,
        "id": "4OHRdjg9MRaB",
        "colab_type": "text"
      },
      "source": [
        "<h1> Getting started with TensorFlow </h1>\n",
        "\n",
        "In this notebook, you play around with the TensorFlow Python API."
      ]
    },
    {
      "cell_type": "code",
      "metadata": {
        "deletable": true,
        "editable": true,
        "id": "k9LApX5sMRaE",
        "colab_type": "code",
        "colab": {}
      },
      "source": [
        "import tensorflow as tf\n",
        "import numpy as np\n",
        "\n",
        "print(tf.__version__)"
      ],
      "execution_count": 0,
      "outputs": []
    },
    {
      "cell_type": "markdown",
      "metadata": {
        "deletable": true,
        "editable": true,
        "id": "PV9zM8t4MRaJ",
        "colab_type": "text"
      },
      "source": [
        "<h2> Adding two tensors </h2>\n",
        "\n",
        "First, let's try doing this using numpy, the Python numeric package. numpy code is immediately evaluated."
      ]
    },
    {
      "cell_type": "code",
      "metadata": {
        "deletable": true,
        "editable": true,
        "id": "ymtQxhEiMRaK",
        "colab_type": "code",
        "colab": {}
      },
      "source": [
        "a = np.array([5, 3, 8])\n",
        "b = np.array([3, -1, 2])\n",
        "c = np.add(a, b)\n",
        "print(c)"
      ],
      "execution_count": 0,
      "outputs": []
    },
    {
      "cell_type": "markdown",
      "metadata": {
        "deletable": true,
        "editable": true,
        "id": "YnirJLjlMRaN",
        "colab_type": "text"
      },
      "source": [
        "The equivalent code in TensorFlow consists of two steps:\n",
        "<p>\n",
        "<h3> Step 1: Build the graph </h3>"
      ]
    },
    {
      "cell_type": "code",
      "metadata": {
        "deletable": true,
        "editable": true,
        "id": "P8tNnY9KMRaN",
        "colab_type": "code",
        "colab": {}
      },
      "source": [
        "a = tf.constant([5, 3, 8])\n",
        "b = tf.constant([3, -1, 2])\n",
        "c = tf.add(a, b)\n",
        "print(c)"
      ],
      "execution_count": 0,
      "outputs": []
    },
    {
      "cell_type": "markdown",
      "metadata": {
        "deletable": true,
        "editable": true,
        "id": "qWe9NWpBMRaQ",
        "colab_type": "text"
      },
      "source": [
        "c is an Op (\"Add\") that returns a tensor of shape (3,) and holds int32. The shape is inferred from the computation graph.\n",
        "\n",
        "Try the following in the cell above:\n",
        "<ol>\n",
        "<li> Change the 5 to 5.0, and similarly the other five numbers. What happens when you run this cell? </li>\n",
        "<li> Add an extra number to a, but leave b at the original (3,) shape. What happens when you run this cell? </li>\n",
        "<li> Change the code back to a version that works </li>\n",
        "</ol>\n",
        "\n",
        "<p/>\n",
        "<h3> Step 2: Run the graph"
      ]
    },
    {
      "cell_type": "code",
      "metadata": {
        "deletable": true,
        "editable": true,
        "id": "528IEJKqMRaR",
        "colab_type": "code",
        "colab": {}
      },
      "source": [
        "with tf.Session() as sess:\n",
        "  result = sess.run(c)\n",
        "  print(result)"
      ],
      "execution_count": 0,
      "outputs": []
    },
    {
      "cell_type": "markdown",
      "metadata": {
        "deletable": true,
        "editable": true,
        "id": "MIG259AaMRaV",
        "colab_type": "text"
      },
      "source": [
        "<h2> Using a feed_dict </h2>\n",
        "\n",
        "Same graph, but without hardcoding inputs at build stage"
      ]
    },
    {
      "cell_type": "code",
      "metadata": {
        "deletable": true,
        "editable": true,
        "id": "DpJmMtKZMRaW",
        "colab_type": "code",
        "colab": {}
      },
      "source": [
        "a = tf.placeholder(dtype=tf.int32, shape=(None,))  # batchsize x scalar\n",
        "b = tf.placeholder(dtype=tf.int32, shape=(None,))\n",
        "c = tf.add(a, b)\n",
        "with tf.Session() as sess:\n",
        "  result = sess.run(c, feed_dict={\n",
        "      a: [3, 4, 5],\n",
        "      b: [-1, 2, 3]\n",
        "    })\n",
        "  print(result)"
      ],
      "execution_count": 0,
      "outputs": []
    },
    {
      "cell_type": "markdown",
      "metadata": {
        "deletable": true,
        "editable": true,
        "id": "J3kvC4ufMRaZ",
        "colab_type": "text"
      },
      "source": [
        "<h2> Heron's Formula in TensorFlow </h2>\n",
        "\n",
        "The area of triangle whose three side lengths are $(a, b, c)$ is $\\sqrt{s(s-a)(s-b)(s-c)}$ where $s=\\frac{a+b+c}{2}$ \n",
        "\n",
        "Look up the available operations at: https://www.tensorflow.org/api_docs/python/tf. \n",
        "\n",
        "You'll need the `tf.sqrt()` operation. Remember `tf.add()`, `tf.subtract()` and `tf.multiply()` are overloaded with the +,- and * operators respectively.\n",
        "\n",
        "You should get: 6.278497"
      ]
    },
    {
      "cell_type": "code",
      "metadata": {
        "id": "QYryj9BKMRaZ",
        "colab_type": "code",
        "colab": {}
      },
      "source": [
        "def compute_area(sides):\n",
        "  a = sides[0]\n",
        "  b = sides[1]\n",
        "  c = sides[2]\n",
        "\n",
        "  s = (a + b + c) / 2\n",
        "  area = tf.math.sqrt(s * (s - a) * (s - b) * (s - c))\n",
        "  \n",
        "  return area\n",
        "\n",
        "with tf.Session() as sess:\n",
        "  area = compute_area(tf.constant([5.0, 3.0, 7.1]))\n",
        "  result = sess.run(area)\n",
        "  print(result)"
      ],
      "execution_count": 0,
      "outputs": []
    },
    {
      "cell_type": "markdown",
      "metadata": {
        "id": "-QnY1RjzMRac",
        "colab_type": "text"
      },
      "source": [
        "Extend your code to be able to compute the area for several triangles at once.\n",
        "\n",
        "You should get: [6.278497 4.709139]"
      ]
    },
    {
      "cell_type": "code",
      "metadata": {
        "deletable": true,
        "editable": true,
        "id": "6VmDXesmMRad",
        "colab_type": "code",
        "colab": {}
      },
      "source": [
        "def compute_area(sides):\n",
        "  a = sides[:,0]\n",
        "  b = sides[:,1]\n",
        "  c = sides[:,2]\n",
        "\n",
        "  s = (a + b + c) / 2\n",
        "  list_of_areas = tf.math.sqrt(s * (s - a) * (s - b) * (s - c))\n",
        "\n",
        "  return list_of_areas\n",
        "\n",
        "with tf.Session() as sess:\n",
        "  # pass in two triangles\n",
        "  area = compute_area(tf.constant([\n",
        "      [5.0, 3.0, 7.1],\n",
        "      [2.3, 4.1, 4.8]\n",
        "    ]))\n",
        "  result = sess.run(area)\n",
        "  print(result)"
      ],
      "execution_count": 0,
      "outputs": []
    },
    {
      "cell_type": "markdown",
      "metadata": {
        "deletable": true,
        "editable": true,
        "id": "JMxYby68MRaf",
        "colab_type": "text"
      },
      "source": [
        "<h2> Placeholder and feed_dict </h2>\n",
        "\n",
        "More common is to define the input to a program as a placeholder and then to feed in the inputs. The difference between the code below and the code above is whether the \"area\" graph is coded up with the input values or whether the \"area\" graph is coded up with a placeholder through which inputs will be passed in at run-time."
      ]
    },
    {
      "cell_type": "code",
      "metadata": {
        "deletable": true,
        "editable": true,
        "id": "j28BbpKiMRag",
        "colab_type": "code",
        "colab": {}
      },
      "source": [
        "with tf.Session() as sess:\n",
        "  sides = tf.placeholder(tf.float32, shape = (None, 3))\n",
        "  area = compute_area(sides)\n",
        "  result = sess.run(\n",
        "      area,\n",
        "      feed_dict= {\n",
        "          sides: [\n",
        "            [5.0, 3.0, 7.1],\n",
        "            [2.3, 4.1, 4.8]\n",
        "          ]\n",
        "      }\n",
        "  )\n",
        "  print(result)"
      ],
      "execution_count": 0,
      "outputs": []
    },
    {
      "cell_type": "markdown",
      "metadata": {
        "deletable": true,
        "editable": true,
        "id": "ggtjg26XMRaj",
        "colab_type": "text"
      },
      "source": [
        "## tf.eager\n",
        "\n",
        "tf.eager allows you to avoid the build-then-run stages. However, most production code will follow the lazy evaluation paradigm because the lazy evaluation paradigm is what allows for multi-device support and distribution. \n",
        "<p>\n",
        "One thing you could do is to develop using tf.eager and then comment out the eager execution and add in the session management code.\n",
        "\n",
        "<b> You will need to restart your session to try this out.</b>"
      ]
    },
    {
      "cell_type": "code",
      "metadata": {
        "deletable": true,
        "editable": true,
        "id": "iOUJK-PBMRaj",
        "colab_type": "code",
        "colab": {}
      },
      "source": [
        "import tensorflow as tf\n",
        "\n",
        "tf.enable_eager_execution()\n",
        "\n",
        "def compute_area(sides):\n",
        "  a = sides[0]\n",
        "  b = sides[1]\n",
        "  c = sides[2]\n",
        "\n",
        "  s = (a + b + c) / 2\n",
        "  area = tf.math.sqrt(s * (s - a) * (s - b) * (s - c))\n",
        "  \n",
        "  return area\n",
        "\n",
        "area = compute_area(tf.constant([5.0, 3.0, 7.1]))\n",
        "print(area)\n"
      ],
      "execution_count": 0,
      "outputs": []
    },
    {
      "cell_type": "markdown",
      "metadata": {
        "deletable": true,
        "editable": true,
        "id": "nJlBGnfgMRam",
        "colab_type": "text"
      },
      "source": [
        "## Challenge Exercise\n",
        "\n",
        "Use TensorFlow to find the roots of a fourth-degree polynomial using [Halley's Method](https://en.wikipedia.org/wiki/Halley%27s_method).  The five coefficients (i.e. $a_0$ to $a_4$) of \n",
        "<p>\n",
        "$f(x) = a_0 + a_1 x + a_2 x^2 + a_3 x^3 + a_4 x^4$\n",
        "<p>\n",
        "will be fed into the program, as will the initial guess $x_0$. Your program will start from that initial guess and then iterate one step using the formula:\n",
        "<img src=\"https://wikimedia.org/api/rest_v1/media/math/render/svg/142614c0378a1d61cb623c1352bf85b6b7bc4397\" />\n",
        "<p>\n",
        "If you got the above easily, try iterating indefinitely until the change between $x_n$ and $x_{n+1}$ is less than some specified tolerance. Hint: Use [tf.while_loop](https://www.tensorflow.org/api_docs/python/tf/while_loop)"
      ]
    },
    {
      "cell_type": "code",
      "metadata": {
        "id": "m8exZt-LOFDJ",
        "colab_type": "code",
        "colab": {}
      },
      "source": [
        "import tensorflow as tf\n",
        "\n",
        "tf.enable_eager_execution()\n",
        "\n",
        "def halleys_method(a, x):\n",
        "    fx = a[0] + a[1]*x + a[2]*tf.math.pow(x,2) + a[3]*tf.math.pow(x,3) + a[4]*tf.math.pow(x,4)\n",
        "    fx_1 = a[1] + 2*a[2]*x + 3*a[3]*tf.math.pow(x,2) + 4*a[4]*tf.math.pow(x,3)\n",
        "    fx_2 = 2*a[2] + 6*a[3]*x + 12*a[4]*tf.math.pow(x,2)\n",
        "    x_2 = x - (2 * fx * fx_1) / (2 * tf.math.pow(fx_1, 2) - fx*fx_2)\n",
        "    delta = tf.math.abs(x_2 - x)\n",
        "    return (x_2, delta)\n",
        "\n",
        "a = tf.constant([1.,2.,3.,4.,5.])\n",
        "x_init = tf.constant(7.)\n",
        "guess, delta = halleys_method(a, x_init)\n",
        "print(guess)\n",
        "print(delta)\n",
        "\n",
        "c = lambda x_next, delta: delta > 0.01\n",
        "b = lambda x_next, delta: halleys_method(a, x_next)\n",
        "root, final_delta = tf.while_loop(c, b, (guess, delta))\n",
        "print(root)\n",
        "print(final_delta)"
      ],
      "execution_count": 0,
      "outputs": []
    },
    {
      "cell_type": "markdown",
      "metadata": {
        "deletable": true,
        "editable": true,
        "id": "k8z8FebyMRam",
        "colab_type": "text"
      },
      "source": [
        "Copyright 2017 Google Inc. Licensed under the Apache License, Version 2.0 (the \"License\"); you may not use this file except in compliance with the License. You may obtain a copy of the License at http://www.apache.org/licenses/LICENSE-2.0 Unless required by applicable law or agreed to in writing, software distributed under the License is distributed on an \"AS IS\" BASIS, WITHOUT WARRANTIES OR CONDITIONS OF ANY KIND, either express or implied. See the License for the specific language governing permissions and limitations under the License"
      ]
    }
  ]
}