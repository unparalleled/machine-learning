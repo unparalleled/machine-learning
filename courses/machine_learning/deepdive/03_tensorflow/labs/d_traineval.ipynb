{
 "cells": [
  {
   "cell_type": "markdown",
   "metadata": {
    "deletable": true,
    "editable": true
   },
   "source": [
    "<h1> 2d. Distributed training and monitoring </h1>\n",
    "\n",
    "In this notebook, we refactor to call ```train_and_evaluate``` instead of hand-coding our ML pipeline. This allows us to carry out evaluation as part of our training loop instead of as a separate step. It also adds in failure-handling that is necessary for distributed training capabilities.\n",
    "\n",
    "We also use TensorBoard to monitor the training."
   ]
  },
  {
   "cell_type": "code",
   "execution_count": null,
   "metadata": {
    "collapsed": false,
    "deletable": true,
    "editable": true,
    "jupyter": {
     "outputs_hidden": false
    }
   },
   "outputs": [],
   "source": [
    "from google.cloud import bigquery\n",
    "import tensorflow as tf\n",
    "import numpy as np\n",
    "import shutil\n",
    "print(tf.__version__)"
   ]
  },
  {
   "cell_type": "markdown",
   "metadata": {
    "deletable": true,
    "editable": true
   },
   "source": [
    "<h2> Input </h2>\n",
    "\n",
    "Read data created in Lab1a, but this time make it more general, so that we are reading in batches.  Instead of using Pandas, we will use add a filename queue to the TensorFlow graph."
   ]
  },
  {
   "cell_type": "code",
   "execution_count": null,
   "metadata": {
    "collapsed": false,
    "deletable": true,
    "editable": true,
    "jupyter": {
     "outputs_hidden": false
    }
   },
   "outputs": [],
   "source": [
    "CSV_COLUMNS = ['fare_amount', 'pickuplon','pickuplat','dropofflon','dropofflat','passengers', 'key']\n",
    "FEATURE_COLUMNS = CSV_COLUMNS[1:len(CSV_COLUMNS)-1]\n",
    "LABEL_COLUMN = 'fare_amount'\n",
    "DEFAULTS = [[0.0], [-74.0], [40.0], [-74.0], [40.7], [1.0], ['nokey']]\n",
    "\n",
    "def read_dataset(filename, mode, batch_size = 512):\n",
    "  def decode_csv(value_column):\n",
    "    columns = tf.decode_csv(value_column, record_defaults = DEFAULTS)\n",
    "    features = dict(zip(CSV_COLUMNS, columns))\n",
    "    label = features.pop(LABEL_COLUMN)\n",
    "    return features, label\n",
    "\n",
    "  # Create list of file names that match \"glob\" pattern (i.e. data_file_*.csv)\n",
    "  filenames_dataset = tf.data.Dataset.list_files(filename)\n",
    "  # Read lines from text files\n",
    "  textlines_dataset = filenames_dataset.flat_map(tf.data.TextLineDataset)\n",
    "  # Parse text lines as comma-separated values (CSV)\n",
    "  dataset = textlines_dataset.map(decode_csv)\n",
    "\n",
    "  # Note:\n",
    "  # use tf.data.Dataset.flat_map to apply one to many transformations (here: filename -> text lines)\n",
    "  # use tf.data.Dataset.map      to apply one to one  transformations (here: text line -> feature list)\n",
    "\n",
    "  if mode == tf.estimator.ModeKeys.TRAIN:\n",
    "      num_epochs = None # indefinitely\n",
    "      dataset = dataset.shuffle(buffer_size = 10 * batch_size)\n",
    "  else:\n",
    "      num_epochs = 1 # end-of-input after this\n",
    "\n",
    "  dataset = dataset.repeat(num_epochs).batch(batch_size)\n",
    "\n",
    "  return dataset\n",
    "\n",
    "def get_train_input_fn():\n",
    "  return read_dataset('./taxi-train.csv', mode = tf.estimator.ModeKeys.TRAIN)\n",
    "\n",
    "def get_valid_input_fn():\n",
    "  return read_dataset('./taxi-valid.csv', mode = tf.estimator.ModeKeys.EVAL)"
   ]
  },
  {
   "cell_type": "markdown",
   "metadata": {
    "deletable": true,
    "editable": true
   },
   "source": [
    "<h2> Create features out of input data </h2>\n",
    "\n",
    "For now, pass these through.  (same as previous lab)"
   ]
  },
  {
   "cell_type": "code",
   "execution_count": null,
   "metadata": {
    "collapsed": false,
    "deletable": true,
    "editable": true,
    "jupyter": {
     "outputs_hidden": false
    }
   },
   "outputs": [],
   "source": [
    "INPUT_COLUMNS = [\n",
    "    tf.feature_column.numeric_column('pickuplon'),\n",
    "    tf.feature_column.numeric_column('pickuplat'),\n",
    "    tf.feature_column.numeric_column('dropofflat'),\n",
    "    tf.feature_column.numeric_column('dropofflon'),\n",
    "    tf.feature_column.numeric_column('passengers'),\n",
    "]\n",
    "\n",
    "def add_more_features(feats):\n",
    "  # Nothing to add (yet!)\n",
    "  return feats\n",
    "\n",
    "feature_cols = add_more_features(INPUT_COLUMNS)"
   ]
  },
  {
   "cell_type": "markdown",
   "metadata": {
    "deletable": true,
    "editable": true
   },
   "source": [
    "<h2> Serving input function </h2>\n",
    "Defines the expected shape of the JSON feed that the modelwill receive once deployed behind a REST API in production."
   ]
  },
  {
   "cell_type": "code",
   "execution_count": null,
   "metadata": {
    "collapsed": false,
    "deletable": true,
    "editable": true,
    "jupyter": {
     "outputs_hidden": false
    }
   },
   "outputs": [],
   "source": [
    "def serving_input_fn():\n",
    "  json_feature_placeholders = dict(\n",
    "      [ [feature, tf.placeholder(tf.float32, [None])] for feature in FEATURE_COLUMNS ]\n",
    "  )\n",
    "  features = dict( [feature, json_feature_placeholders[feature]] for feature in FEATURE_COLUMNS )\n",
    "  return tf.estimator.export.ServingInputReceiver(features, json_feature_placeholders)\n",
    "\n",
    "serving_input_fn()"
   ]
  },
  {
   "cell_type": "markdown",
   "metadata": {
    "deletable": true,
    "editable": true
   },
   "source": [
    "<h2> tf.estimator.train_and_evaluate </h2>"
   ]
  },
  {
   "cell_type": "code",
   "execution_count": null,
   "metadata": {
    "collapsed": false,
    "deletable": true,
    "editable": true,
    "jupyter": {
     "outputs_hidden": false
    }
   },
   "outputs": [],
   "source": [
    "def train_and_evaluate(output_dir, num_train_steps):\n",
    "  run_config = tf.estimator.RunConfig(\n",
    "      model_dir=output_dir,\n",
    "      save_summary_steps=100,\n",
    "      save_checkpoints_steps=num_train_steps\n",
    "  )\n",
    "  \n",
    "  estimator = tf.estimator.DNNRegressor(hidden_units=[32, 8, 2], feature_columns=feature_cols, config=run_config)\n",
    "  \n",
    "  train_spec = tf.estimator.TrainSpec(input_fn=get_train_input_fn)\n",
    "  \n",
    "  export_latest = tf.estimator.LatestExporter(\"exp\", serving_input_receiver_fn=serving_input_fn)\n",
    "  eval_spec = tf.estimator.EvalSpec(input_fn=get_valid_input_fn, exporters=export_latest)\n",
    "  \n",
    "  tf.estimator.train_and_evaluate(estimator, train_spec, eval_spec)"
   ]
  },
  {
   "cell_type": "markdown",
   "metadata": {},
   "source": [
    "## Monitor training with TensorBoard\n",
    "\n",
    "To activate TensorBoard within the JupyterLab UI navigate to \"<b>File</b>\" - \"<b>New Launcher</b>\".   Then double-click the 'Tensorboard' icon on the bottom row.\n",
    "\n",
    "TensorBoard 1 will appear in the new tab.  Navigate through the three tabs to see the active TensorBoard.   The 'Graphs' and 'Projector' tabs offer very interesting information including the ability to replay the tests.\n",
    "\n",
    "You may close the TensorBoard tab when you are finished exploring."
   ]
  },
  {
   "cell_type": "code",
   "execution_count": null,
   "metadata": {},
   "outputs": [],
   "source": [
    "OUTDIR = './taxi_trained'"
   ]
  },
  {
   "cell_type": "markdown",
   "metadata": {
    "deletable": true,
    "editable": true
   },
   "source": [
    "<h2>Run training</h2>"
   ]
  },
  {
   "cell_type": "code",
   "execution_count": null,
   "metadata": {
    "collapsed": false,
    "deletable": true,
    "editable": true,
    "jupyter": {
     "outputs_hidden": false
    }
   },
   "outputs": [],
   "source": [
    "# Run training    \n",
    "shutil.rmtree(OUTDIR, ignore_errors = True) # start fresh each time\n",
    "tf.summary.FileWriterCache.clear() # ensure filewriter cache is clear for TensorBoard events file\n",
    "train_and_evaluate(OUTDIR, num_train_steps = 2000)"
   ]
  },
  {
   "cell_type": "markdown",
   "metadata": {
    "deletable": true,
    "editable": true
   },
   "source": [
    "## Challenge Exercise\n",
    "\n",
    "Modify your solution to the challenge exercise in c_dataset.ipynb appropriately."
   ]
  },
  {
   "cell_type": "code",
   "execution_count": null,
   "metadata": {},
   "outputs": [],
   "source": [
    "import tensorflow as tf\n",
    "import pandas as pd\n",
    "import numpy as np\n",
    "import shutil\n",
    "\n",
    "import random\n",
    "import math\n",
    "\n",
    "COLUMNS = ['key', 'volume', 'height', 'radius']\n",
    "\n",
    "def get_random():\n",
    "    random_range = random.random()*1.5+0.5\n",
    "    return random_range\n",
    "\n",
    "def get_data(count):\n",
    "    data = []\n",
    "    for i in range(count):\n",
    "        random_h = get_random()\n",
    "        random_r = get_random()\n",
    "        volume = math.pow(random_r, 2) * math.pi * random_h\n",
    "\n",
    "        # map features with 10% noise and round to nearest decimal place\n",
    "        volume, random_h, random_r = map(\n",
    "            lambda x: round(x + x*(random.random()*0.2-0.1), 1),\n",
    "            [volume, random_h, random_r]\n",
    "        )\n",
    "        data.append([i, volume, random_h, random_r])\n",
    "    numpy_data = np.array(data)\n",
    "    df = pd.DataFrame(data=numpy_data[:,1:], index=numpy_data[:,0], columns=COLUMNS[1:])\n",
    "    return df\n",
    "\n",
    "df_train_cylinder = get_data(100000)\n",
    "df_valid_cylinder = get_data(100000)\n",
    "\n",
    "# now let's do the network stuff\n",
    "def make_train_input_fn(df, num_epochs):\n",
    "  return tf.estimator.inputs.pandas_input_fn(\n",
    "    x = df,\n",
    "    y = df['volume'],\n",
    "    batch_size = 128,\n",
    "    num_epochs = num_epochs,\n",
    "    shuffle = True,\n",
    "    queue_capacity = 1000\n",
    "  )\n",
    "def make_eval_input_fn(df):\n",
    "  return tf.estimator.inputs.pandas_input_fn(\n",
    "    x = df,\n",
    "    y = df['volume'],\n",
    "    batch_size = 128,\n",
    "    num_epochs = 10,\n",
    "    shuffle = True,\n",
    "    queue_capacity = 1000\n",
    "  )\n",
    "def make_prediction_input_fn(df):\n",
    "  return tf.estimator.inputs.pandas_input_fn(\n",
    "    x = df,\n",
    "    batch_size = 128,\n",
    "    num_epochs = 10,\n",
    "    shuffle = True,\n",
    "    queue_capacity = 1000\n",
    "  )\n",
    "\n",
    "def serving_input_fn_cylinder():\n",
    "  json_feature_placeholders = {\n",
    "      'height': tf.placeholder(tf.float32, [None]),\n",
    "      'radius': tf.placeholder(tf.float32, [None])\n",
    "  }\n",
    "  features = dict( [feature, json_feature_placeholders[feature]] for feature in json_feature_placeholders.keys() )\n",
    "  return tf.estimator.export.ServingInputReceiver(features, json_feature_placeholders)\n",
    "\n",
    "featcols_cylinder = [\n",
    "    tf.feature_column.numeric_column(\"height\"),\n",
    "    tf.feature_column.numeric_column(\"radius\")\n",
    "]\n",
    "\n",
    "def train_and_evaluate_cylinder(output_dir, num_train_steps):\n",
    "  run_config = tf.estimator.RunConfig(\n",
    "      model_dir=output_dir,\n",
    "      save_summary_steps=100,\n",
    "      save_checkpoints_steps=num_train_steps\n",
    "  )\n",
    "  \n",
    "  estimator = tf.estimator.DNNRegressor(\n",
    "      hidden_units=[32, 8, 2],\n",
    "      feature_columns=featcols_cylinder,\n",
    "      config=run_config\n",
    "  )\n",
    "  \n",
    "  train_spec = tf.estimator.TrainSpec(\n",
    "      input_fn = make_train_input_fn(df=df_train_cylinder, num_epochs=10)\n",
    "  )\n",
    "  \n",
    "  export_latest = tf.estimator.LatestExporter(\"exp\", serving_input_receiver_fn=serving_input_fn_cylinder)\n",
    "  eval_spec = tf.estimator.EvalSpec(input_fn=make_eval_input_fn(df_valid_cylinder), exporters=export_latest)\n",
    "  \n",
    "  tf.estimator.train_and_evaluate(estimator, train_spec, eval_spec)\n",
    "  return estimator\n",
    "\n",
    "tf.logging.set_verbosity(tf.logging.WARN)\n",
    "\n",
    "OUTDIR_CYLINDER = 'cylinder_data'\n",
    "\n",
    "# Run training\n",
    "shutil.rmtree(OUTDIR_CYLINDER, ignore_errors = True) # start fresh each time\n",
    "tf.summary.FileWriterCache.clear() # ensure filewriter cache is clear for TensorBoard events file\n",
    "model_cylinder_dnn= train_and_evaluate_cylinder(OUTDIR_CYLINDER, num_train_steps = 2000)\n",
    "\n",
    "for i in range(5):\n",
    "    # predict on random input row\n",
    "    df_test_cylinder = get_data(1)\n",
    "    print(df_test_cylinder)\n",
    "    cylinder_predictions_dnn = model_cylinder_dnn.predict(make_prediction_input_fn(df_test_cylinder))\n",
    "    print(next(cylinder_predictions_dnn))"
   ]
  },
  {
   "cell_type": "markdown",
   "metadata": {
    "deletable": true,
    "editable": true
   },
   "source": [
    "Copyright 2017 Google Inc. Licensed under the Apache License, Version 2.0 (the \"License\"); you may not use this file except in compliance with the License. You may obtain a copy of the License at http://www.apache.org/licenses/LICENSE-2.0 Unless required by applicable law or agreed to in writing, software distributed under the License is distributed on an \"AS IS\" BASIS, WITHOUT WARRANTIES OR CONDITIONS OF ANY KIND, either express or implied. See the License for the specific language governing permissions and limitations under the License"
   ]
  }
 ],
 "metadata": {
  "kernelspec": {
   "display_name": "Python 3",
   "language": "python",
   "name": "python3"
  },
  "language_info": {
   "codemirror_mode": {
    "name": "ipython",
    "version": 3
   },
   "file_extension": ".py",
   "mimetype": "text/x-python",
   "name": "python",
   "nbconvert_exporter": "python",
   "pygments_lexer": "ipython3",
   "version": "3.5.3"
  }
 },
 "nbformat": 4,
 "nbformat_minor": 4
}
