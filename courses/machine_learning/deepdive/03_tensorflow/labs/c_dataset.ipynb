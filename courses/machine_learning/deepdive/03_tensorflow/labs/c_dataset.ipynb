{
  "nbformat": 4,
  "nbformat_minor": 0,
  "metadata": {
    "kernelspec": {
      "display_name": "Python 3",
      "language": "python",
      "name": "python3"
    },
    "language_info": {
      "codemirror_mode": {
        "name": "ipython",
        "version": 3
      },
      "file_extension": ".py",
      "mimetype": "text/x-python",
      "name": "python",
      "nbconvert_exporter": "python",
      "pygments_lexer": "ipython3",
      "version": "3.7.6"
    },
    "colab": {
      "name": "c_dataset.ipynb",
      "provenance": [],
      "collapsed_sections": []
    }
  },
  "cells": [
    {
      "cell_type": "markdown",
      "metadata": {
        "deletable": true,
        "editable": true,
        "id": "EyNLYMUoeQZg",
        "colab_type": "text"
      },
      "source": [
        "<h1> 2c. Loading large datasets progressively with the tf.data.Dataset </h1>\n",
        "\n",
        "In this notebook, we continue reading the same small dataset, but refactor our ML pipeline in two small, but significant, ways:\n",
        "<ol>\n",
        "<li> Refactor the input to read data from disk progressively.\n",
        "<li> Refactor the feature creation so that it is not one-to-one with inputs.\n",
        "</ol>\n",
        "<br/>\n",
        "The Pandas function in the previous notebook first read the whole data into memory -- on a large dataset, this won't be an option."
      ]
    },
    {
      "cell_type": "code",
      "metadata": {
        "deletable": true,
        "editable": true,
        "jupyter": {
          "outputs_hidden": false
        },
        "id": "AaR0NLAVeQZh",
        "colab_type": "code",
        "colab": {}
      },
      "source": [
        "from google.cloud import bigquery\n",
        "import tensorflow as tf\n",
        "import numpy as np\n",
        "import shutil\n",
        "print(tf.__version__)"
      ],
      "execution_count": 0,
      "outputs": []
    },
    {
      "cell_type": "markdown",
      "metadata": {
        "deletable": true,
        "editable": true,
        "id": "X-b-ttJOeQZl",
        "colab_type": "text"
      },
      "source": [
        "<h2> 1. Refactor the input </h2>\n",
        "\n",
        "Read data created in Lab1a, but this time make it more general, so that we can later handle large datasets. We use the Dataset API for this. It ensures that, as data gets delivered to the model in mini-batches, it is loaded from disk only when needed."
      ]
    },
    {
      "cell_type": "code",
      "metadata": {
        "deletable": true,
        "editable": true,
        "jupyter": {
          "outputs_hidden": true
        },
        "id": "FqrnH2UueQZm",
        "colab_type": "code",
        "colab": {}
      },
      "source": [
        "CSV_COLUMNS = ['fare_amount', 'pickuplon','pickuplat','dropofflon','dropofflat','passengers', 'key']\n",
        "DEFAULTS = [[0.0], [-74.0], [40.0], [-74.0], [40.7], [1.0], ['nokey']]\n",
        "\n",
        "def read_dataset(filename, mode, batch_size = 512):\n",
        "  def decode_csv(row):\n",
        "    columns = tf.decode_csv(row, record_defaults = DEFAULTS)\n",
        "    features = dict(zip(CSV_COLUMNS, columns))\n",
        "    features.pop('key') # discard, not a real feature\n",
        "    label = features.pop('fare_amount') # remove label from features and store\n",
        "    return features, label\n",
        "\n",
        "  # Create list of file names that match \"glob\" pattern (i.e. data_file_*.csv)\n",
        "  filenames_dataset = tf.data.Dataset.list_files(filename, shuffle=False)\n",
        "  # Read lines from text files\n",
        "  textlines_dataset = filenames_dataset.flat_map(tf.data.TextLineDataset)\n",
        "  # Parse text lines as comma-separated values (CSV)\n",
        "  dataset = textlines_dataset.map(decode_csv)\n",
        "\n",
        "  # Note:\n",
        "  # use tf.data.Dataset.flat_map to apply one to many transformations (here: filename -> text lines)\n",
        "  # use tf.data.Dataset.map      to apply one to one  transformations (here: text line -> feature list)\n",
        "\n",
        "  if mode == tf.estimator.ModeKeys.TRAIN:\n",
        "      num_epochs = None # loop indefinitely\n",
        "      dataset = dataset.shuffle(buffer_size = 10 * batch_size, seed=2)\n",
        "  else:\n",
        "      num_epochs = 1 # end-of-input after this\n",
        "\n",
        "  dataset = dataset.repeat(num_epochs).batch(batch_size)\n",
        "\n",
        "  return dataset\n",
        "\n",
        "def get_train_input_fn():\n",
        "  return read_dataset('./taxi-train.csv', mode = tf.estimator.ModeKeys.TRAIN)\n",
        "\n",
        "def get_valid_input_fn():\n",
        "  return read_dataset('./taxi-valid.csv', mode = tf.estimator.ModeKeys.EVAL)"
      ],
      "execution_count": 0,
      "outputs": []
    },
    {
      "cell_type": "markdown",
      "metadata": {
        "deletable": true,
        "editable": true,
        "id": "EBiy2PEveQZq",
        "colab_type": "text"
      },
      "source": [
        "<h2> 2. Refactor the way features are created. </h2>\n",
        "\n",
        "For now, pass these through (same as previous lab).  However, refactoring this way will enable us to break the one-to-one relationship between inputs and features."
      ]
    },
    {
      "cell_type": "code",
      "metadata": {
        "deletable": true,
        "editable": true,
        "jupyter": {
          "outputs_hidden": true
        },
        "id": "TF9GnxhmeQZr",
        "colab_type": "code",
        "colab": {}
      },
      "source": [
        "INPUT_COLUMNS = [\n",
        "    tf.feature_column.numeric_column('pickuplon'),\n",
        "    tf.feature_column.numeric_column('pickuplat'),\n",
        "    tf.feature_column.numeric_column('dropofflat'),\n",
        "    tf.feature_column.numeric_column('dropofflon'),\n",
        "    tf.feature_column.numeric_column('passengers'),\n",
        "]\n",
        "\n",
        "def add_more_features(feats):\n",
        "  # Nothing to add (yet!)\n",
        "  return feats\n",
        "\n",
        "feature_cols = add_more_features(INPUT_COLUMNS)"
      ],
      "execution_count": 0,
      "outputs": []
    },
    {
      "cell_type": "markdown",
      "metadata": {
        "deletable": true,
        "editable": true,
        "id": "88OGxvaQeQZu",
        "colab_type": "text"
      },
      "source": [
        "<h2> Create and train the model </h2>\n",
        "\n",
        "Note that we train for num_steps * batch_size examples."
      ]
    },
    {
      "cell_type": "code",
      "metadata": {
        "deletable": true,
        "editable": true,
        "jupyter": {
          "outputs_hidden": false
        },
        "id": "0-HL-YTqeQZu",
        "colab_type": "code",
        "colab": {}
      },
      "source": [
        "tf.logging.set_verbosity(tf.logging.INFO)\n",
        "OUTDIR = 'taxi_trained'\n",
        "shutil.rmtree(OUTDIR, ignore_errors = True) # start fresh each time\n",
        "model = tf.estimator.LinearRegressor(\n",
        "      feature_columns = feature_cols, model_dir = OUTDIR)\n",
        "model.train(input_fn = get_train_input_fn, steps = 200)"
      ],
      "execution_count": 0,
      "outputs": []
    },
    {
      "cell_type": "markdown",
      "metadata": {
        "deletable": true,
        "editable": true,
        "id": "CT-fQUlaeQZx",
        "colab_type": "text"
      },
      "source": [
        "<h3> Evaluate model </h3>\n",
        "\n",
        "As before, evaluate on the validation data.  We'll do the third refactoring (to move the evaluation into the training loop) in the next lab."
      ]
    },
    {
      "cell_type": "code",
      "metadata": {
        "deletable": true,
        "editable": true,
        "jupyter": {
          "outputs_hidden": false
        },
        "id": "KxcJa74WeQZy",
        "colab_type": "code",
        "colab": {}
      },
      "source": [
        "metrics = model.evaluate(input_fn = get_valid_input_fn, steps = None)\n",
        "print('RMSE on dataset = {}'.format(np.sqrt(metrics['average_loss'])))"
      ],
      "execution_count": 0,
      "outputs": []
    },
    {
      "cell_type": "markdown",
      "metadata": {
        "deletable": true,
        "editable": true,
        "id": "iLibgrTeeQZ1",
        "colab_type": "text"
      },
      "source": [
        "## Challenge Exercise\n",
        "\n",
        "Create a neural network that is capable of finding the volume of a cylinder given the radius of its base (r) and its height (h). Assume that the radius and height of the cylinder are both in the range 0.5 to 2.0. Unlike in the challenge exercise for b_estimator.ipynb, assume that your measurements of r, h and V are all rounded off to the nearest 0.1. Simulate the necessary training dataset. This time, you will need a lot more data to get a good predictor.\n",
        "\n",
        "Hint (highlight to see):\n",
        "<p style='color:white'>\n",
        "Create random values for r and h and compute V. Then, round off r, h and V (i.e., the volume is computed from the true value of r and h; it's only your measurement that is rounded off). Your dataset will consist of the round values of r, h and V. Do this for both the training and evaluation datasets.\n",
        "</p>\n",
        "\n",
        "Now modify the \"noise\" so that instead of just rounding off the value, there is up to a 10% error (uniformly distributed) in the measurement followed by rounding off."
      ]
    },
    {
      "cell_type": "code",
      "metadata": {
        "id": "yJhdvDhheRzD",
        "colab_type": "code",
        "colab": {}
      },
      "source": [
        "import tensorflow as tf\n",
        "import pandas as pd\n",
        "import numpy as np\n",
        "import shutil\n",
        "\n",
        "import random\n",
        "import math\n",
        "\n",
        "COLUMNS = ['key', 'volume', 'height', 'radius']\n",
        "\n",
        "def get_random():\n",
        "    random_range = random.random()*1.5+0.5\n",
        "    return random_range\n",
        "\n",
        "def get_data(count):\n",
        "    data = []\n",
        "    for i in range(count):\n",
        "        random_h = get_random()\n",
        "        random_r = get_random()\n",
        "        volume = math.pow(random_r, 2) * math.pi * random_h\n",
        "\n",
        "        # map features with 10% noise and round to nearest decimal place\n",
        "        volume, random_h, random_r = map(\n",
        "            lambda x: round(x + x*(random.random()*0.2-0.1), 1),\n",
        "            [volume, random_h, random_r]\n",
        "        )\n",
        "        data.append([i, volume, random_h, random_r])\n",
        "    numpy_data = np.array(data)\n",
        "    df = pd.DataFrame(data=numpy_data[:,1:], index=numpy_data[:,0], columns=COLUMNS[1:])\n",
        "    return df\n",
        "\n",
        "df_train_cylinder = get_data(100000)\n",
        "df_valid_cylinder = get_data(100000)\n",
        "\n",
        "# now let's do the network stuff\n",
        "def make_train_input_fn(df, num_epochs):\n",
        "  return tf.estimator.inputs.pandas_input_fn(\n",
        "    x = df,\n",
        "    y = df['volume'],\n",
        "    batch_size = 128,\n",
        "    num_epochs = num_epochs,\n",
        "    shuffle = True,\n",
        "    queue_capacity = 1000\n",
        "  )\n",
        "def make_eval_input_fn(df):\n",
        "  return tf.estimator.inputs.pandas_input_fn(\n",
        "    x = df,\n",
        "    y = df['volume'],\n",
        "    batch_size = 128,\n",
        "    num_epochs = 10,\n",
        "    shuffle = True,\n",
        "    queue_capacity = 1000\n",
        "  )\n",
        "def make_prediction_input_fn(df):\n",
        "  return tf.estimator.inputs.pandas_input_fn(\n",
        "    x = df,\n",
        "    batch_size = 128,\n",
        "    num_epochs = 10,\n",
        "    shuffle = True,\n",
        "    queue_capacity = 1000\n",
        "  )\n",
        "\n",
        "featcols = [\n",
        "    tf.feature_column.numeric_column(\"height\"),\n",
        "    tf.feature_column.numeric_column(\"radius\")\n",
        "]\n",
        "\n",
        "tf.logging.set_verbosity(tf.logging.WARN)\n",
        "OUTDIR_CYLINDER = 'cylinder_data'\n",
        "shutil.rmtree(OUTDIR_CYLINDER, ignore_errors = True) # start fresh each time\n",
        "model_cylinder_dnn = tf.estimator.DNNRegressor([32,8,2], featcols, OUTDIR_CYLINDER)\n",
        "model_cylinder_dnn.train(\n",
        "    make_train_input_fn(df=df_train_cylinder, num_epochs=10),\n",
        "    steps = 2000\n",
        ")\n",
        "\n",
        "for i in range(5):\n",
        "    # predict on random input row\n",
        "    df_test_cylinder = get_data(1)\n",
        "    print(df_test_cylinder)\n",
        "    cylinder_predictions_dnn = model_cylinder_dnn.predict(make_prediction_input_fn(df_test_cylinder))\n",
        "    print(next(cylinder_predictions_dnn))"
      ],
      "execution_count": 0,
      "outputs": []
    },
    {
      "cell_type": "markdown",
      "metadata": {
        "deletable": true,
        "editable": true,
        "id": "YO1l9iI6eQZ2",
        "colab_type": "text"
      },
      "source": [
        "Copyright 2017 Google Inc. Licensed under the Apache License, Version 2.0 (the \"License\"); you may not use this file except in compliance with the License. You may obtain a copy of the License at http://www.apache.org/licenses/LICENSE-2.0 Unless required by applicable law or agreed to in writing, software distributed under the License is distributed on an \"AS IS\" BASIS, WITHOUT WARRANTIES OR CONDITIONS OF ANY KIND, either express or implied. See the License for the specific language governing permissions and limitations under the License"
      ]
    }
  ]
}